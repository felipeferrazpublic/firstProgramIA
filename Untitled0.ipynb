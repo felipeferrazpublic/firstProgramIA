{
  "nbformat": 4,
  "nbformat_minor": 0,
  "metadata": {
    "colab": {
      "provenance": [],
      "authorship_tag": "ABX9TyPSugQPnUPAoGyRagyofBhb",
      "include_colab_link": true
    },
    "kernelspec": {
      "name": "python3",
      "display_name": "Python 3"
    },
    "language_info": {
      "name": "python"
    }
  },
  "cells": [
    {
      "cell_type": "markdown",
      "metadata": {
        "id": "view-in-github",
        "colab_type": "text"
      },
      "source": [
        "<a href=\"https://colab.research.google.com/github/felipeferrazpublic/firstProgramIA/blob/main/Untitled0.ipynb\" target=\"_parent\"><img src=\"https://colab.research.google.com/assets/colab-badge.svg\" alt=\"Open In Colab\"/></a>"
      ]
    },
    {
      "cell_type": "markdown",
      "source": [
        "[image](https://www.google.com/google.jpg)"
      ],
      "metadata": {
        "id": "cWFgZ06AtTSW"
      }
    },
    {
      "cell_type": "code",
      "execution_count": 2,
      "metadata": {
        "id": "_JYL0MCDmUmO",
        "colab": {
          "base_uri": "https://localhost:8080/"
        },
        "outputId": "9f36bb92-4a14-4e78-b23e-c1c1857139d8"
      },
      "outputs": [
        {
          "output_type": "stream",
          "name": "stdout",
          "text": [
            "studante\n"
          ]
        }
      ],
      "source": [
        "nome = 'studante'\n",
        "print(nome)"
      ]
    }
  ]
}